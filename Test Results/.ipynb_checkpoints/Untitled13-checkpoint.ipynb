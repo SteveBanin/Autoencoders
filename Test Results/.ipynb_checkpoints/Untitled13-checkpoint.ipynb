{
 "cells": [
  {
   "cell_type": "code",
   "execution_count": 1,
   "metadata": {},
   "outputs": [],
   "source": [
    "from pandas import DataFrame\n",
    "import json\n",
    "\n"
   ]
  },
  {
   "cell_type": "code",
   "execution_count": 2,
   "metadata": {},
   "outputs": [],
   "source": [
    "with open(r'tests\\test_0028.json', encoding = \"utf-8\") as data_file:\n",
    "    data = json.load(data_file)\n",
    "                        \n",
    "    \n",
    "    #print(data[0]['text'])\n"
   ]
  },
  {
   "cell_type": "code",
   "execution_count": 3,
   "metadata": {
    "scrolled": true
   },
   "outputs": [
    {
     "name": "stdout",
     "output_type": "stream",
     "text": [
      "bounds\n",
      "nodes\n",
      "parentage\n",
      "reachability\n"
     ]
    }
   ],
   "source": [
    "#DataFrame(data['goal']) \n",
    "#data\n",
    "for nt in data['network']:\n",
    "    print(nt)\n",
    "#print(json.dumps(data, indent = 2))\n",
    "#data = [0]['network']\n",
    "#data[:]['network']\n",
    "#print(len(data[0]['network']))\n",
    "#for items in data['network']['bounds']:\n",
    " #   print(items)    \n",
    "#print(data['network'])\n",
    "#data[0][\"network\"]\n",
    "\n"
   ]
  },
  {
   "cell_type": "code",
   "execution_count": 4,
   "metadata": {},
   "outputs": [
    {
     "name": "stdout",
     "output_type": "stream",
     "text": [
      "bounds\n",
      "nodes\n",
      "parentage\n",
      "reachability\n"
     ]
    }
   ],
   "source": [
    "for nt in data['network']:\n",
    "    print(nt)"
   ]
  },
  {
   "cell_type": "code",
   "execution_count": 5,
   "metadata": {},
   "outputs": [],
   "source": [
    "network = data['network']['nodes']\n",
    "\n",
    "\n",
    "l_edges_r_lane = []\n",
    "r_edges_l_lane = []\n",
    "\n",
    "for _,v in network.items():\n",
    "    r_edges_l_lane.append(v['l_lanes'][0]['r_edge'])\n",
    "    l_edges_r_lane.append(v['r_lanes'][0]['l_edge'])\n",
    "    \n",
    "\n"
   ]
  },
  {
   "cell_type": "code",
   "execution_count": 14,
   "metadata": {},
   "outputs": [
    {
     "name": "stdout",
     "output_type": "stream",
     "text": [
      "1\n",
      "11\n",
      "12\n",
      "13\n",
      "14\n",
      "15\n",
      "18\n",
      "2\n",
      "20\n",
      "21\n",
      "22\n",
      "23\n",
      "25\n",
      "26\n",
      "3\n",
      "31\n",
      "32\n",
      "33\n",
      "34\n",
      "36\n",
      "37\n",
      "4\n",
      "40\n",
      "42\n",
      "5\n",
      "8\n"
     ]
    }
   ],
   "source": [
    "for items in data['network']['nodes']:\n",
    "    print(items) "
   ]
  },
  {
   "cell_type": "code",
   "execution_count": 15,
   "metadata": {},
   "outputs": [],
   "source": [
    "\n",
    "#for nd in data['network']['nodes']:\n",
    " #   r_edge = nd['nodes']['lane_id']['r_edge']\n",
    "#print(data[\"r_edge\"])"
   ]
  },
  {
   "cell_type": "code",
   "execution_count": 16,
   "metadata": {},
   "outputs": [
    {
     "data": {
      "text/plain": [
       "dict"
      ]
     },
     "execution_count": 16,
     "metadata": {},
     "output_type": "execute_result"
    }
   ],
   "source": [
    "type(data)"
   ]
  }
 ],
 "metadata": {
  "kernelspec": {
   "display_name": "Python 3",
   "language": "python",
   "name": "python3"
  },
  "language_info": {
   "codemirror_mode": {
    "name": "ipython",
    "version": 3
   },
   "file_extension": ".py",
   "mimetype": "text/x-python",
   "name": "python",
   "nbconvert_exporter": "python",
   "pygments_lexer": "ipython3",
   "version": "3.6.4"
  }
 },
 "nbformat": 4,
 "nbformat_minor": 2
}
