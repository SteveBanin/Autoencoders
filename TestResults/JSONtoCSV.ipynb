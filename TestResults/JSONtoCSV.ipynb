{
 "cells": [
  {
   "cell_type": "code",
   "execution_count": 1,
   "metadata": {},
   "outputs": [],
   "source": [
    "from pandas import DataFrame\n",
    "import json"
   ]
  },
  {
   "cell_type": "code",
   "execution_count": 2,
   "metadata": {},
   "outputs": [],
   "source": [
    "def get_measurements(filename):\n",
    "    \n",
    "    l_edge_r_lane = []\n",
    "    r_edge_l_lane = []\n",
    "    \n",
    "    try:\n",
    "        with open(filename, encoding = \"utf-8\") as data_file:\n",
    "            data = json.load(data_file)\n",
    "    except:\n",
    "        return l_edge_r_lane, r_edge_l_lane\n",
    "    \n",
    "    network = data['network']['nodes']\n",
    "    \n",
    "    for _,v in network.items():\n",
    "        r_edge_l_lane.append(v['l_lanes'][0]['r_edge'])\n",
    "        l_edge_r_lane.append(v['r_lanes'][0]['l_edge'])\n",
    "    \n",
    "    return l_edge_r_lane, r_edge_l_lane\n"
   ]
  },
  {
   "cell_type": "code",
   "execution_count": 3,
   "metadata": {},
   "outputs": [],
   "source": [
    "def make_file_name(folder, filenumber):\n",
    "    num_of_zeros = 0\n",
    "    if (filenumber // 1000) > 0:\n",
    "        pass\n",
    "    elif (filenumber // 100) > 0:\n",
    "        num_of_zeros = 1\n",
    "    elif (filenumber // 10) > 0:\n",
    "        num_of_zeros = 2\n",
    "    else:\n",
    "        num_of_zeros = 3\n",
    "    \n",
    "    return \"{}/{}_{}.json\".format(folder, \"test\", str(\"0\"*num_of_zeros)+str(filenumber))"
   ]
  },
  {
   "cell_type": "code",
   "execution_count": 4,
   "metadata": {},
   "outputs": [],
   "source": [
    "l_edges_r_lane = []\n",
    "r_edges_l_lane = []\n",
    "\n",
    "\n",
    "for i in range(26,64):\n",
    "    filename = make_file_name(\"tests\", i)\n",
    "    lerl, rell = get_measurements(filename)\n",
    "    l_edges_r_lane = l_edges_r_lane + lerl\n",
    "    r_edges_l_lane = r_edges_l_lane + rell\n"
   ]
  },
  {
   "cell_type": "code",
   "execution_count": 5,
   "metadata": {},
   "outputs": [],
   "source": [
    "with open(\"result.csv\", \"a+\") as f:\n",
    "    f.write(\"iteration,LERLv1,LERLv2,LERLv3,LERLv4\\n\")\n",
    "    for i in range(len(l_edges_r_lane)):\n",
    "        f.write(\n",
    "            \"{},{},{},{},{}\\n\"\n",
    "            .format(\n",
    "                i,\n",
    "                l_edges_r_lane[1][0][0],\n",
    "                l_edges_r_lane[1][0][1],\n",
    "                l_edges_r_lane[1][1][0],\n",
    "                l_edges_r_lane[1][1][1]\n",
    "            )\n",
    "        )"
   ]
  },
  {
   "cell_type": "code",
   "execution_count": null,
   "metadata": {},
   "outputs": [],
   "source": []
  },
  {
   "cell_type": "code",
   "execution_count": null,
   "metadata": {},
   "outputs": [],
   "source": []
  }
 ],
 "metadata": {
  "kernelspec": {
   "display_name": "Python 3",
   "language": "python",
   "name": "python3"
  },
  "language_info": {
   "codemirror_mode": {
    "name": "ipython",
    "version": 3
   },
   "file_extension": ".py",
   "mimetype": "text/x-python",
   "name": "python",
   "nbconvert_exporter": "python",
   "pygments_lexer": "ipython3",
   "version": "3.7.3"
  }
 },
 "nbformat": 4,
 "nbformat_minor": 2
}
